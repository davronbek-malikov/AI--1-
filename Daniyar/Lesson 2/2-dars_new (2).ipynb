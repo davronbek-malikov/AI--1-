{
 "cells": [
  {
   "cell_type": "markdown",
   "id": "2a4a3d5a",
   "metadata": {},
   "source": [
    "# Data Types"
   ]
  },
  {
   "cell_type": "code",
   "execution_count": null,
   "id": "a4316380",
   "metadata": {},
   "outputs": [],
   "source": [
    "#data turlari\n",
    "#Codlarni run  qilish uchun(shift+enter)\n",
    "# comment yozish uchun(ctrl+/)\n",
    "# Kutubxonalarni saqlash\n",
    "print(1+2)"
   ]
  },
  {
   "cell_type": "code",
   "execution_count": 1,
   "id": "cb78ae7b",
   "metadata": {},
   "outputs": [],
   "source": [
    "#Data types\n",
    "#int\n",
    "#float\n",
    "#str\n",
    "#Boolean"
   ]
  },
  {
   "cell_type": "code",
   "execution_count": 2,
   "id": "1d471663",
   "metadata": {},
   "outputs": [
    {
     "data": {
      "text/plain": [
       "int"
      ]
     },
     "execution_count": 2,
     "metadata": {},
     "output_type": "execute_result"
    }
   ],
   "source": [
    "#int\n",
    "#1,199,-345,0\n",
    "a=4\n",
    "type(a)"
   ]
  },
  {
   "cell_type": "code",
   "execution_count": 3,
   "id": "2e121b90",
   "metadata": {},
   "outputs": [
    {
     "data": {
      "text/plain": [
       "float"
      ]
     },
     "execution_count": 3,
     "metadata": {},
     "output_type": "execute_result"
    }
   ],
   "source": [
    "#float\n",
    "#3.5, 122.3, -567.9, 0.5\n",
    "b=122.3\n",
    "type(b)"
   ]
  },
  {
   "cell_type": "code",
   "execution_count": 4,
   "id": "4c15013d",
   "metadata": {},
   "outputs": [
    {
     "data": {
      "text/plain": [
       "int"
      ]
     },
     "execution_count": 4,
     "metadata": {},
     "output_type": "execute_result"
    }
   ],
   "source": [
    "type(4)"
   ]
  },
  {
   "cell_type": "code",
   "execution_count": 5,
   "id": "928c01ce",
   "metadata": {},
   "outputs": [
    {
     "data": {
      "text/plain": [
       "float"
      ]
     },
     "execution_count": 5,
     "metadata": {},
     "output_type": "execute_result"
    }
   ],
   "source": [
    "type(4.0)"
   ]
  },
  {
   "cell_type": "code",
   "execution_count": 6,
   "id": "bcd54cb6",
   "metadata": {},
   "outputs": [
    {
     "data": {
      "text/plain": [
       "str"
      ]
     },
     "execution_count": 6,
     "metadata": {},
     "output_type": "execute_result"
    }
   ],
   "source": [
    "#str\n",
    "s='hello'\n",
    "type(s)"
   ]
  },
  {
   "cell_type": "code",
   "execution_count": 7,
   "id": "be30ee17",
   "metadata": {},
   "outputs": [
    {
     "data": {
      "text/plain": [
       "str"
      ]
     },
     "execution_count": 7,
     "metadata": {},
     "output_type": "execute_result"
    }
   ],
   "source": [
    "type('4')"
   ]
  },
  {
   "cell_type": "code",
   "execution_count": 8,
   "id": "e6f9e269",
   "metadata": {},
   "outputs": [
    {
     "data": {
      "text/plain": [
       "str"
      ]
     },
     "execution_count": 8,
     "metadata": {},
     "output_type": "execute_result"
    }
   ],
   "source": [
    "type('4.0')"
   ]
  },
  {
   "cell_type": "code",
   "execution_count": 9,
   "id": "60e85827",
   "metadata": {},
   "outputs": [
    {
     "ename": "SyntaxError",
     "evalue": "unterminated string literal (detected at line 1) (3102594321.py, line 1)",
     "output_type": "error",
     "traceback": [
      "\u001b[1;36m  Cell \u001b[1;32mIn[9], line 1\u001b[1;36m\u001b[0m\n\u001b[1;33m    type(\"ok')\u001b[0m\n\u001b[1;37m         ^\u001b[0m\n\u001b[1;31mSyntaxError\u001b[0m\u001b[1;31m:\u001b[0m unterminated string literal (detected at line 1)\n"
     ]
    }
   ],
   "source": [
    "type(\"ok')"
   ]
  },
  {
   "cell_type": "code",
   "execution_count": 10,
   "id": "28799bd9",
   "metadata": {},
   "outputs": [
    {
     "data": {
      "text/plain": [
       "True"
      ]
     },
     "execution_count": 10,
     "metadata": {},
     "output_type": "execute_result"
    }
   ],
   "source": [
    "#Boolean\n",
    "#True, False\n",
    "1>0"
   ]
  },
  {
   "cell_type": "code",
   "execution_count": 11,
   "id": "a36800dd",
   "metadata": {},
   "outputs": [
    {
     "data": {
      "text/plain": [
       "False"
      ]
     },
     "execution_count": 11,
     "metadata": {},
     "output_type": "execute_result"
    }
   ],
   "source": [
    "-5>0"
   ]
  },
  {
   "cell_type": "code",
   "execution_count": 12,
   "id": "6167d274",
   "metadata": {},
   "outputs": [],
   "source": [
    "#Operations"
   ]
  },
  {
   "cell_type": "code",
   "execution_count": null,
   "id": "f50482d5",
   "metadata": {},
   "outputs": [
    {
     "name": "stdout",
     "output_type": "stream",
     "text": [
      "7\n",
      "1\n",
      "12\n",
      "1.3333333333333333\n",
      "1\n",
      "1\n",
      "64\n"
     ]
    }
   ],
   "source": [
    "#Math operations(+,-,*,/,//,%,**)(shift+alt+str)\n",
    "a=4\n",
    "b=3\n",
    "print(a+b)\n",
    "print(a-b)\n",
    "print(a*b)\n",
    "print(a/b)  #ODDIY BOLISH\n",
    "print(a//b)  #BUTUN QISMINI\n",
    "print(a%b)\n"
   ]
  },
  {
   "cell_type": "code",
   "execution_count": null,
   "id": "56fcd02e",
   "metadata": {},
   "outputs": [
    {
     "name": "stdout",
     "output_type": "stream",
     "text": [
      "ikki son yigindisi: 7 ga teng\n"
     ]
    }
   ],
   "source": [
    "print('ikki son yigindisi:',a+b,'ga teng') #oddiy usul"
   ]
  },
  {
   "cell_type": "code",
   "execution_count": null,
   "id": "670e8789",
   "metadata": {},
   "outputs": [
    {
     "name": "stdout",
     "output_type": "stream",
     "text": [
      "ikki son yig'indisi 7 ga teng va ayrimasi 1 kopaytrmasi 12 ga teng\n"
     ]
    }
   ],
   "source": [
    "#f string\n",
    "print(f\"ikki son yig'indisi {a+b} ga teng va ayrimasi {a-b} kopaytrmasi {a*b} ga teng\")"
   ]
  },
  {
   "cell_type": "code",
   "execution_count": 23,
   "id": "125e9ac8",
   "metadata": {},
   "outputs": [
    {
     "data": {
      "text/plain": [
       "True"
      ]
     },
     "execution_count": 23,
     "metadata": {},
     "output_type": "execute_result"
    }
   ],
   "source": [
    "# Logic Operations\n",
    "#And OR\n",
    "1>0 or 2>1"
   ]
  },
  {
   "cell_type": "code",
   "execution_count": 21,
   "id": "8882a504",
   "metadata": {},
   "outputs": [
    {
     "data": {
      "text/plain": [
       "False"
      ]
     },
     "execution_count": 21,
     "metadata": {},
     "output_type": "execute_result"
    }
   ],
   "source": [
    "1>0 and 2>4"
   ]
  },
  {
   "cell_type": "code",
   "execution_count": 22,
   "id": "af2f8ce3",
   "metadata": {},
   "outputs": [
    {
     "data": {
      "text/plain": [
       "True"
      ]
     },
     "execution_count": 22,
     "metadata": {},
     "output_type": "execute_result"
    }
   ],
   "source": [
    "1>0 or 2>4"
   ]
  },
  {
   "cell_type": "code",
   "execution_count": 24,
   "id": "5aa689d6",
   "metadata": {},
   "outputs": [
    {
     "data": {
      "text/plain": [
       "False"
      ]
     },
     "execution_count": 24,
     "metadata": {},
     "output_type": "execute_result"
    }
   ],
   "source": [
    "(1>0 and 2>4) and (3==3)"
   ]
  },
  {
   "cell_type": "code",
   "execution_count": null,
   "id": "933c22de",
   "metadata": {},
   "outputs": [],
   "source": [
    "==, !=\n"
   ]
  },
  {
   "cell_type": "markdown",
   "id": "eaf4646f",
   "metadata": {},
   "source": [
    "# String"
   ]
  },
  {
   "cell_type": "code",
   "execution_count": 26,
   "id": "d9f0d432",
   "metadata": {},
   "outputs": [
    {
     "data": {
      "text/plain": [
       "('H', 'e')"
      ]
     },
     "execution_count": 26,
     "metadata": {},
     "output_type": "execute_result"
    }
   ],
   "source": [
    "s='Hello'\n",
    "s[0],s[1]"
   ]
  },
  {
   "cell_type": "code",
   "execution_count": 27,
   "id": "905c95cb",
   "metadata": {},
   "outputs": [
    {
     "data": {
      "text/plain": [
       "'o'"
      ]
     },
     "execution_count": 27,
     "metadata": {},
     "output_type": "execute_result"
    }
   ],
   "source": [
    "s[4]"
   ]
  },
  {
   "cell_type": "code",
   "execution_count": 28,
   "id": "098728e2",
   "metadata": {},
   "outputs": [
    {
     "data": {
      "text/plain": [
       "'o'"
      ]
     },
     "execution_count": 28,
     "metadata": {},
     "output_type": "execute_result"
    }
   ],
   "source": [
    "s[-1]"
   ]
  },
  {
   "cell_type": "code",
   "execution_count": 29,
   "id": "b945b29a",
   "metadata": {},
   "outputs": [
    {
     "data": {
      "text/plain": [
       "'l'"
      ]
     },
     "execution_count": 29,
     "metadata": {},
     "output_type": "execute_result"
    }
   ],
   "source": [
    "s[-2]"
   ]
  },
  {
   "cell_type": "code",
   "execution_count": 30,
   "id": "bddd4d29",
   "metadata": {},
   "outputs": [
    {
     "data": {
      "text/plain": [
       "'llo'"
      ]
     },
     "execution_count": 30,
     "metadata": {},
     "output_type": "execute_result"
    }
   ],
   "source": [
    "#slicing\n",
    "s[2:]"
   ]
  },
  {
   "cell_type": "code",
   "execution_count": 31,
   "id": "6ef59dd0",
   "metadata": {},
   "outputs": [
    {
     "data": {
      "text/plain": [
       "'He'"
      ]
     },
     "execution_count": 31,
     "metadata": {},
     "output_type": "execute_result"
    }
   ],
   "source": [
    "s[:2]"
   ]
  },
  {
   "cell_type": "code",
   "execution_count": 32,
   "id": "b7d8dc57",
   "metadata": {},
   "outputs": [
    {
     "data": {
      "text/plain": [
       "'ll'"
      ]
     },
     "execution_count": 32,
     "metadata": {},
     "output_type": "execute_result"
    }
   ],
   "source": [
    "s[2:4]"
   ]
  },
  {
   "cell_type": "markdown",
   "id": "dc78a26a",
   "metadata": {},
   "source": [
    "# Vazifa"
   ]
  },
  {
   "cell_type": "code",
   "execution_count": null,
   "id": "31b5ae50",
   "metadata": {},
   "outputs": [],
   "source": [
    "#1. \"Python\" so'zininng dastlabki 3 ta so'zini ajratib yozing\n",
    "#2. \"Python\" so'zininng oxirgi 4 ta so'zini ajratib yozing\n",
    "#3. \"Python\" so'zininng dastlabki 2 ta va oxirgi 2 ta  so'zini ajratib yozing\n",
    "#4. 2 ta son ustida darsimizdagi o'tilgan Math, Logic operationlarni qo'llagan xolda misollar ishlang\n",
    "#Izoh barcha o'tilgan misollarda f stringni qo'llab ishlang=+==+"
   ]
  },
  {
   "cell_type": "code",
   "execution_count": 2,
   "id": "a963ca83",
   "metadata": {},
   "outputs": [
    {
     "data": {
      "text/plain": [
       "('P', 'y', 't')"
      ]
     },
     "execution_count": 2,
     "metadata": {},
     "output_type": "execute_result"
    }
   ],
   "source": [
    "s='Python'\n",
    "s[0],s[1],s[2]"
   ]
  },
  {
   "cell_type": "code",
   "execution_count": 6,
   "id": "65f8d825",
   "metadata": {},
   "outputs": [
    {
     "data": {
      "text/plain": [
       "('n', 'o', 'h', 't')"
      ]
     },
     "execution_count": 6,
     "metadata": {},
     "output_type": "execute_result"
    }
   ],
   "source": [
    "s='Python'\n",
    "s[-1],s[-2],s[-3],s[-4]"
   ]
  },
  {
   "cell_type": "code",
   "execution_count": 8,
   "id": "e55b6733",
   "metadata": {},
   "outputs": [
    {
     "data": {
      "text/plain": [
       "('p', 'y', 'n', 'o')"
      ]
     },
     "execution_count": 8,
     "metadata": {},
     "output_type": "execute_result"
    }
   ],
   "source": [
    "s='python'\n",
    "s[0],s[1],s[-1],s[-2]"
   ]
  },
  {
   "cell_type": "code",
   "execution_count": 10,
   "id": "bda6349a",
   "metadata": {},
   "outputs": [
    {
     "name": "stdout",
     "output_type": "stream",
     "text": [
      "10\n",
      "-4\n",
      "21\n",
      "0.42857142857142855\n",
      "0\n",
      "3\n"
     ]
    }
   ],
   "source": [
    "a=3\n",
    "b=7\n",
    "print(a+b)\n",
    "print(a-b)\n",
    "print(a*b)\n",
    "print(a/b) \n",
    "print(a//b)  \n",
    "print(a%b)\n"
   ]
  },
  {
   "cell_type": "code",
   "execution_count": 11,
   "id": "0219c66b",
   "metadata": {},
   "outputs": [
    {
     "name": "stdout",
     "output_type": "stream",
     "text": [
      "ikki son yigindisi: 10 ga teng\n"
     ]
    }
   ],
   "source": [
    "print('ikki son yigindisi:',a+b,'ga teng') "
   ]
  },
  {
   "cell_type": "code",
   "execution_count": 13,
   "id": "6df84614",
   "metadata": {},
   "outputs": [
    {
     "name": "stdout",
     "output_type": "stream",
     "text": [
      "ikki son yig'indisi 10 ga teng va ayrimasi -4 kopaytrmasi 21 ga teng\n"
     ]
    }
   ],
   "source": [
    "print(f\"ikki son yig'indisi {a+b} ga teng va ayrimasi {a-b} kopaytrmasi {a*b} ga teng\")"
   ]
  },
  {
   "cell_type": "code",
   "execution_count": 14,
   "id": "4804ae9c",
   "metadata": {},
   "outputs": [
    {
     "data": {
      "text/plain": [
       "True"
      ]
     },
     "execution_count": 14,
     "metadata": {},
     "output_type": "execute_result"
    }
   ],
   "source": [
    "5>0 or 4>1"
   ]
  },
  {
   "cell_type": "code",
   "execution_count": 15,
   "id": "217b173c",
   "metadata": {},
   "outputs": [
    {
     "data": {
      "text/plain": [
       "True"
      ]
     },
     "execution_count": 15,
     "metadata": {},
     "output_type": "execute_result"
    }
   ],
   "source": [
    "8<4 or 5>4"
   ]
  },
  {
   "cell_type": "code",
   "execution_count": 16,
   "id": "1567c4bf",
   "metadata": {},
   "outputs": [
    {
     "data": {
      "text/plain": [
       "False"
      ]
     },
     "execution_count": 16,
     "metadata": {},
     "output_type": "execute_result"
    }
   ],
   "source": [
    "8<4 and 5>4"
   ]
  },
  {
   "cell_type": "code",
   "execution_count": 17,
   "id": "2dc257dd",
   "metadata": {},
   "outputs": [
    {
     "data": {
      "text/plain": [
       "True"
      ]
     },
     "execution_count": 17,
     "metadata": {},
     "output_type": "execute_result"
    }
   ],
   "source": [
    "(3>2 and 2<4) and (5==5)"
   ]
  },
  {
   "cell_type": "code",
   "execution_count": 18,
   "id": "98f7e6e4",
   "metadata": {},
   "outputs": [
    {
     "data": {
      "text/plain": [
       "False"
      ]
     },
     "execution_count": 18,
     "metadata": {},
     "output_type": "execute_result"
    }
   ],
   "source": [
    "(3>2 and 2<4) and (5!=5)"
   ]
  },
  {
   "cell_type": "code",
   "execution_count": 25,
   "id": "533b6828",
   "metadata": {},
   "outputs": [
    {
     "data": {
      "text/plain": [
       "'Python'"
      ]
     },
     "execution_count": 25,
     "metadata": {},
     "output_type": "execute_result"
    }
   ],
   "source": [
    "s='Python'\n",
    "s[0:]"
   ]
  },
  {
   "cell_type": "code",
   "execution_count": null,
   "id": "17132977",
   "metadata": {},
   "outputs": [],
   "source": []
  }
 ],
 "metadata": {
  "kernelspec": {
   "display_name": "Python 3",
   "language": "python",
   "name": "python3"
  },
  "language_info": {
   "codemirror_mode": {
    "name": "ipython",
    "version": 3
   },
   "file_extension": ".py",
   "mimetype": "text/x-python",
   "name": "python",
   "nbconvert_exporter": "python",
   "pygments_lexer": "ipython3",
   "version": "3.11.9"
  }
 },
 "nbformat": 4,
 "nbformat_minor": 5
}
