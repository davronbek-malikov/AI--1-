{
 "cells": [
  {
   "cell_type": "markdown",
   "id": "d722f636",
   "metadata": {},
   "source": [
    "# Vazifa"
   ]
  },
  {
   "cell_type": "code",
   "execution_count": null,
   "id": "5417b6e6",
   "metadata": {},
   "outputs": [],
   "source": [
    "#Agar talabaning ismi 7 ta xarfdan iborat bolsa va uning bosh xarfi B bolsa yaxshi aks xold yomon degan yozuv chiqasin\n"
   ]
  },
  {
   "cell_type": "code",
   "execution_count": 6,
   "id": "abb2a582",
   "metadata": {},
   "outputs": [
    {
     "name": "stdout",
     "output_type": "stream",
     "text": [
      "yomon\n"
     ]
    }
   ],
   "source": [
    "name = \"Salohiddin\"\n",
    "if len(name)==7 and name[0]==\"B\":\n",
    "    print(\"yaxshi\")\n",
    "else:\n",
    "    print(\"yomon\")\n"
   ]
  },
  {
   "cell_type": "code",
   "execution_count": 7,
   "id": "9adb64c8",
   "metadata": {},
   "outputs": [
    {
     "name": "stdout",
     "output_type": "stream",
     "text": [
      "yaxshi\n"
     ]
    }
   ],
   "source": [
    "name=\"Bahodir\"\n",
    "if len(name)==7 and name[0]==\"B\":\n",
    "    print(\"yaxshi\")\n",
    "else:\n",
    "    print(\"yomon\")"
   ]
  },
  {
   "cell_type": "code",
   "execution_count": 8,
   "id": "76da9c65",
   "metadata": {},
   "outputs": [
    {
     "name": "stdout",
     "output_type": "stream",
     "text": [
      "yomon\n"
     ]
    }
   ],
   "source": [
    "name=\"Bahodirbek\"\n",
    "if len(name)==7 and name[0]==\"B\":\n",
    "    print(\"yaxshi\")\n",
    "else:\n",
    "    print(\"yomon\")"
   ]
  },
  {
   "cell_type": "markdown",
   "id": "c5bfbb5f",
   "metadata": {},
   "source": [
    "2-savol"
   ]
  },
  {
   "cell_type": "code",
   "execution_count": 9,
   "id": "2619ca5f",
   "metadata": {},
   "outputs": [],
   "source": [
    "#Agar son 2 xonali bolsa yaxshi 1 xonali bolsa yomon aks xolda out of box degan yozuv chiqsin"
   ]
  },
  {
   "cell_type": "code",
   "execution_count": 10,
   "id": "fc5fc766",
   "metadata": {},
   "outputs": [
    {
     "name": "stdout",
     "output_type": "stream",
     "text": [
      "yaxshi\n"
     ]
    }
   ],
   "source": [
    "a=24\n",
    "if len(str(a))==2:\n",
    "    print(\"yaxshi\")\n",
    "elif len(str(a))==1:\n",
    "    print(\"yomon\")\n",
    "else:\n",
    "    print(\"out of box\")"
   ]
  },
  {
   "cell_type": "code",
   "execution_count": 11,
   "id": "150b39b7",
   "metadata": {},
   "outputs": [
    {
     "name": "stdout",
     "output_type": "stream",
     "text": [
      "yomon\n"
     ]
    }
   ],
   "source": [
    "a=6\n",
    "if len(str(a))==2:\n",
    "    print(\"yaxshi\")\n",
    "elif len(str(a))==1:\n",
    "    print(\"yomon\")\n",
    "else:\n",
    "    print(\"out of box\")\n"
   ]
  },
  {
   "cell_type": "code",
   "execution_count": 12,
   "id": "3abd5c9b",
   "metadata": {},
   "outputs": [
    {
     "name": "stdout",
     "output_type": "stream",
     "text": [
      "out of box\n"
     ]
    }
   ],
   "source": [
    "a=567\n",
    "if len(str(a))==2:\n",
    "    print(\"yaxshi\")\n",
    "elif len(str(a))==1:\n",
    "    print(\"yomon\")\n",
    "else:\n",
    "    print(\"out of box\")"
   ]
  }
 ],
 "metadata": {
  "kernelspec": {
   "display_name": "Python 3",
   "language": "python",
   "name": "python3"
  },
  "language_info": {
   "codemirror_mode": {
    "name": "ipython",
    "version": 3
   },
   "file_extension": ".py",
   "mimetype": "text/x-python",
   "name": "python",
   "nbconvert_exporter": "python",
   "pygments_lexer": "ipython3",
   "version": "3.13.7"
  }
 },
 "nbformat": 4,
 "nbformat_minor": 5
}
