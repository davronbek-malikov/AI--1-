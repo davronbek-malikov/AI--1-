{
 "cells": [
  {
   "cell_type": "markdown",
   "id": "f58a100a",
   "metadata": {},
   "source": [
    "# vazifa"
   ]
  },
  {
   "cell_type": "code",
   "execution_count": null,
   "id": "f819a6a3",
   "metadata": {},
   "outputs": [
    {
     "name": "stdout",
     "output_type": "stream",
     "text": [
      "Python so'zining boshidagi uchta harfi [:3]\n"
     ]
    }
   ],
   "source": [
    "s='Python'\n",
    "s[:3]"
   ]
  },
  {
   "cell_type": "code",
   "execution_count": 18,
   "id": "1d18eddf",
   "metadata": {},
   "outputs": [
    {
     "data": {
      "text/plain": [
       "'thon'"
      ]
     },
     "execution_count": 18,
     "metadata": {},
     "output_type": "execute_result"
    }
   ],
   "source": [
    "s=\"Python\"\n",
    "s[2:]"
   ]
  },
  {
   "cell_type": "code",
   "execution_count": 28,
   "id": "875af003",
   "metadata": {},
   "outputs": [
    {
     "data": {
      "text/plain": [
       "('Py', 'on')"
      ]
     },
     "execution_count": 28,
     "metadata": {},
     "output_type": "execute_result"
    }
   ],
   "source": [
    "s='Python'\n",
    "s[:2],s[-2:]"
   ]
  },
  {
   "cell_type": "markdown",
   "id": "1028b70f",
   "metadata": {},
   "source": [
    "#operations"
   ]
  },
  {
   "cell_type": "code",
   "execution_count": null,
   "id": "2c89832c",
   "metadata": {},
   "outputs": [
    {
     "name": "stdout",
     "output_type": "stream",
     "text": [
      "Ikki sonni ko'paytmasi:75,bo'lingani esa:8.333333333333334,ayirmasi esa 22ga teng\n"
     ]
    }
   ],
   "source": [
    "a=25\n",
    "b=3\n",
    "print(f\"Ikki sonni ko'paytmasi:{a*b},bo'lingani esa:{a/b},ayirmasi esa {a-b} ga teng\")"
   ]
  },
  {
   "cell_type": "code",
   "execution_count": 29,
   "id": "99b455cb",
   "metadata": {},
   "outputs": [
    {
     "name": "stdout",
     "output_type": "stream",
     "text": [
      "Ikki sonning qo'shilgani 3.6 ko'paytmasi 2.75,qoldiqli bo'lingan shakli esa0.2999999999999998 ga teng\n"
     ]
    }
   ],
   "source": [
    "a=2.5\n",
    "b=1.1\n",
    "print(f\"Ikki sonning qo'shilgani {a+b} ko'paytmasi {a*b},qoldiqli bo'lingan shakli esa{a%b} ga teng\")"
   ]
  },
  {
   "cell_type": "code",
   "execution_count": null,
   "id": "758e3cab",
   "metadata": {},
   "outputs": [
    {
     "data": {
      "text/plain": [
       "False"
      ]
     },
     "execution_count": 31,
     "metadata": {},
     "output_type": "execute_result"
    }
   ],
   "source": [
    "(5>0 and 2>4) and(3==3) "
   ]
  },
  {
   "cell_type": "code",
   "execution_count": null,
   "id": "f8fdaef8",
   "metadata": {},
   "outputs": [
    {
     "data": {
      "text/plain": [
       "True"
      ]
     },
     "execution_count": 32,
     "metadata": {},
     "output_type": "execute_result"
    }
   ],
   "source": [
    "(3!=5 and 3>6) or (5<=7)"
   ]
  },
  {
   "cell_type": "code",
   "execution_count": 36,
   "id": "b9f51778",
   "metadata": {},
   "outputs": [
    {
     "data": {
      "text/plain": [
       "False"
      ]
     },
     "execution_count": 36,
     "metadata": {},
     "output_type": "execute_result"
    }
   ],
   "source": [
    "(2>=1 or 3==3) and (3!=3)"
   ]
  },
  {
   "cell_type": "code",
   "execution_count": null,
   "id": "bb066984",
   "metadata": {},
   "outputs": [],
   "source": []
  }
 ],
 "metadata": {
  "kernelspec": {
   "display_name": "Python 3",
   "language": "python",
   "name": "python3"
  },
  "language_info": {
   "codemirror_mode": {
    "name": "ipython",
    "version": 3
   },
   "file_extension": ".py",
   "mimetype": "text/x-python",
   "name": "python",
   "nbconvert_exporter": "python",
   "pygments_lexer": "ipython3",
   "version": "3.14.0"
  }
 },
 "nbformat": 4,
 "nbformat_minor": 5
}
